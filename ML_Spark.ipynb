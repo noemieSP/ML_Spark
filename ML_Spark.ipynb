{
 "cells": [
  {
   "cell_type": "markdown",
   "metadata": {
    "collapsed": false
   },
   "source": [
    "# Découverte du package MLLIB "
   ]
  },
  {
   "cell_type": "markdown",
   "metadata": {},
   "source": [
    "## Analyse explo (rapide) "
   ]
  },
  {
   "cell_type": "code",
   "execution_count": 1,
   "metadata": {
    "collapsed": true
   },
   "outputs": [],
   "source": [
    "import utils\n",
    "import pandas as pd\n",
    "import matplotlib\n",
    "import matplotlib.pyplot as plt\n",
    "%matplotlib inline\n",
    "from pandas import DataFrame"
   ]
  },
  {
   "cell_type": "code",
   "execution_count": 2,
   "metadata": {
    "collapsed": false
   },
   "outputs": [
    {
     "data": {
      "text/html": [
       "<div>\n",
       "<table border=\"1\" class=\"dataframe\">\n",
       "  <thead>\n",
       "    <tr style=\"text-align: right;\">\n",
       "      <th></th>\n",
       "      <th>1-nom Fichier</th>\n",
       "      <th>2-nb Col</th>\n",
       "      <th>3-nb Lignes</th>\n",
       "      <th>4-nb Lignes error</th>\n",
       "    </tr>\n",
       "  </thead>\n",
       "  <tbody>\n",
       "    <tr>\n",
       "      <th>0</th>\n",
       "      <td>glass</td>\n",
       "      <td>9</td>\n",
       "      <td>214</td>\n",
       "      <td>0</td>\n",
       "    </tr>\n",
       "  </tbody>\n",
       "</table>\n",
       "</div>"
      ],
      "text/plain": [
       "  1-nom Fichier  2-nb Col  3-nb Lignes  4-nb Lignes error\n",
       "0         glass         9          214                  0"
      ]
     },
     "execution_count": 2,
     "metadata": {},
     "output_type": "execute_result"
    }
   ],
   "source": [
    "# chargement du fichier glass.csv\n",
    "nomF = \"glass\"\n",
    "dataGlass = sc.textFile(\"file:/C:/spark-1.6.0-bin-hadoop2.4/\"+nomF+\".csv\")\n",
    "# séparation des colonnes\n",
    "lines = dataGlass.map(lambda line: utils.toRow(line, ';'))\n",
    "# ligne 1 = header -> save header\n",
    "nomColInit = lines.take(1)[0]\n",
    "# save nb col\n",
    "nbColInit = len(nomColInit)\n",
    "# sruppression du header\n",
    "parts = lines.filter(lambda line: nomColInit != line) \n",
    "parts = parts.filter(lambda line: len(line) == nbColInit)\n",
    "# cptage nb lignes (sans le header)   \n",
    "nbLignesInit = parts.count()\n",
    "# cptage erreur : nb col header != nb col de la ligne \n",
    "partsError = parts.filter(lambda line: len(line) != nbColInit)\n",
    "nbErrorL = partsError.count()\n",
    "# tableau résumé \n",
    "data = pd.DataFrame({'1-nom Fichier':[nomF],\n",
    "                       '2-nb Col':[nbColInit],\n",
    "                       '3-nb Lignes': [nbLignesInit],\n",
    "                        '4-nb Lignes error': [nbErrorL]})\n",
    "data"
   ]
  },
  {
   "cell_type": "markdown",
   "metadata": {},
   "source": [
    "Le fichier a été correctement importé (0 ligne d'erreur). \n",
    "\n",
    "Il décrit la composition de 214 échantillon de verre, définie sur 8 variables numériques et une variable qualitative de typage de l'échantillon. "
   ]
  },
  {
   "cell_type": "markdown",
   "metadata": {},
   "source": [
    "### Répartition des classes"
   ]
  },
  {
   "cell_type": "code",
   "execution_count": 3,
   "metadata": {
    "collapsed": false
   },
   "outputs": [
    {
     "data": {
      "image/png": "[encoded data removed]",
      "text/plain": [
       "<matplotlib.figure.Figure at 0xc19dc50>"
      ]
     },
     "metadata": {},
     "output_type": "display_data"
    }
   ],
   "source": [
    "# La variable à prédire est le \"type\" \n",
    "typeV = parts.map(lambda line: line[8])\n",
    "# map + reduce\n",
    "distribType = typeV.map(lambda typeT: (typeT, 1)).reduceByKey(lambda a, b: a+b)\n",
    "# Digramme de répartition\n",
    "i = 0\n",
    "name = []\n",
    "data = []\n",
    "while i <6:\n",
    "    name = name + [distribType.collect()[i][0]]\n",
    "    data = data +[int(distribType.collect()[i][1])]\n",
    "    i+=1\n",
    "plt.pie(data, labels=name, autopct='%1.1f%%', startangle=90, shadow=True)\n",
    "plt.axis('equal')\n",
    "plt.show()"
   ]
  },
  {
   "cell_type": "markdown",
   "metadata": {},
   "source": [
    "Ce jeu de données ne nécessite pas de manipulation directe, il n’y a en effet aucune valeur manquante ni aucune erreur détectée. En revanche, nous constatons une inégalité dans la répartition des types : les building_windows représentent plus de 68% de la base. Nous pouvons déjà nous attendre à des difficultés d'obtenir un modèle prédictif fiable."
   ]
  },
  {
   "cell_type": "code",
   "execution_count": 4,
   "metadata": {
    "collapsed": false
   },
   "outputs": [
    {
     "data": {
      "text/html": [
       "<div>\n",
       "<table border=\"1\" class=\"dataframe\">\n",
       "  <thead>\n",
       "    <tr style=\"text-align: right;\">\n",
       "      <th></th>\n",
       "      <th>Sodium</th>\n",
       "      <th>Magnesium</th>\n",
       "      <th>Aluminum</th>\n",
       "      <th>Silicon</th>\n",
       "      <th>Potassium</th>\n",
       "      <th>Calcium</th>\n",
       "      <th>Barium</th>\n",
       "      <th>Iron</th>\n",
       "    </tr>\n",
       "  </thead>\n",
       "  <tbody>\n",
       "    <tr>\n",
       "      <th>count</th>\n",
       "      <td>214.000000</td>\n",
       "      <td>214.000000</td>\n",
       "      <td>214.000000</td>\n",
       "      <td>214.000000</td>\n",
       "      <td>214.000000</td>\n",
       "      <td>214.000000</td>\n",
       "      <td>214.000000</td>\n",
       "      <td>214.000000</td>\n",
       "    </tr>\n",
       "    <tr>\n",
       "      <th>mean</th>\n",
       "      <td>13.407850</td>\n",
       "      <td>2.684533</td>\n",
       "      <td>1.444907</td>\n",
       "      <td>72.650935</td>\n",
       "      <td>0.497056</td>\n",
       "      <td>8.956963</td>\n",
       "      <td>0.175047</td>\n",
       "      <td>0.057009</td>\n",
       "    </tr>\n",
       "    <tr>\n",
       "      <th>std</th>\n",
       "      <td>0.816604</td>\n",
       "      <td>1.442408</td>\n",
       "      <td>0.499270</td>\n",
       "      <td>0.774546</td>\n",
       "      <td>0.652192</td>\n",
       "      <td>1.423153</td>\n",
       "      <td>0.497219</td>\n",
       "      <td>0.097439</td>\n",
       "    </tr>\n",
       "    <tr>\n",
       "      <th>min</th>\n",
       "      <td>10.730000</td>\n",
       "      <td>0.000000</td>\n",
       "      <td>0.290000</td>\n",
       "      <td>69.810000</td>\n",
       "      <td>0.000000</td>\n",
       "      <td>5.430000</td>\n",
       "      <td>0.000000</td>\n",
       "      <td>0.000000</td>\n",
       "    </tr>\n",
       "    <tr>\n",
       "      <th>25%</th>\n",
       "      <td>12.907500</td>\n",
       "      <td>2.115000</td>\n",
       "      <td>1.190000</td>\n",
       "      <td>72.280000</td>\n",
       "      <td>0.122500</td>\n",
       "      <td>8.240000</td>\n",
       "      <td>0.000000</td>\n",
       "      <td>0.000000</td>\n",
       "    </tr>\n",
       "    <tr>\n",
       "      <th>50%</th>\n",
       "      <td>13.300000</td>\n",
       "      <td>3.480000</td>\n",
       "      <td>1.360000</td>\n",
       "      <td>72.790000</td>\n",
       "      <td>0.555000</td>\n",
       "      <td>8.600000</td>\n",
       "      <td>0.000000</td>\n",
       "      <td>0.000000</td>\n",
       "    </tr>\n",
       "    <tr>\n",
       "      <th>75%</th>\n",
       "      <td>13.825000</td>\n",
       "      <td>3.600000</td>\n",
       "      <td>1.630000</td>\n",
       "      <td>73.087500</td>\n",
       "      <td>0.610000</td>\n",
       "      <td>9.172500</td>\n",
       "      <td>0.000000</td>\n",
       "      <td>0.100000</td>\n",
       "    </tr>\n",
       "    <tr>\n",
       "      <th>max</th>\n",
       "      <td>17.380000</td>\n",
       "      <td>4.490000</td>\n",
       "      <td>3.500000</td>\n",
       "      <td>75.410000</td>\n",
       "      <td>6.210000</td>\n",
       "      <td>16.190000</td>\n",
       "      <td>3.150000</td>\n",
       "      <td>0.510000</td>\n",
       "    </tr>\n",
       "  </tbody>\n",
       "</table>\n",
       "</div>"
      ],
      "text/plain": [
       "           Sodium   Magnesium    Aluminum     Silicon   Potassium     Calcium  \\\n",
       "count  214.000000  214.000000  214.000000  214.000000  214.000000  214.000000   \n",
       "mean    13.407850    2.684533    1.444907   72.650935    0.497056    8.956963   \n",
       "std      0.816604    1.442408    0.499270    0.774546    0.652192    1.423153   \n",
       "min     10.730000    0.000000    0.290000   69.810000    0.000000    5.430000   \n",
       "25%     12.907500    2.115000    1.190000   72.280000    0.122500    8.240000   \n",
       "50%     13.300000    3.480000    1.360000   72.790000    0.555000    8.600000   \n",
       "75%     13.825000    3.600000    1.630000   73.087500    0.610000    9.172500   \n",
       "max     17.380000    4.490000    3.500000   75.410000    6.210000   16.190000   \n",
       "\n",
       "           Barium        Iron  \n",
       "count  214.000000  214.000000  \n",
       "mean     0.175047    0.057009  \n",
       "std      0.497219    0.097439  \n",
       "min      0.000000    0.000000  \n",
       "25%      0.000000    0.000000  \n",
       "50%      0.000000    0.000000  \n",
       "75%      0.000000    0.100000  \n",
       "max      3.150000    0.510000  "
      ]
     },
     "execution_count": 4,
     "metadata": {},
     "output_type": "execute_result"
    }
   ],
   "source": [
    "##### En trichant #####\n",
    "# Utilisation de pandas pour résumer les données + afficher la matrice de corrélation\n",
    "df = pd.read_csv(\"file:/C:/spark-1.6.0-bin-hadoop2.4/\"+nomF+\".csv\", sep = \";\",header=0)\n",
    "df.describe()\n",
    "# Matrice de corrélation\n",
    "# print(df.corr())"
   ]
  },
  {
   "cell_type": "markdown",
   "metadata": {},
   "source": [
    "### Mllib Statistics"
   ]
  },
  {
   "cell_type": "code",
   "execution_count": 5,
   "metadata": {
    "collapsed": false
   },
   "outputs": [
    {
     "name": "stdout",
     "output_type": "stream",
     "text": [
      "[  1.34078505e+01   2.68453271e+00   1.44490654e+00   7.26509346e+01\n",
      "   4.97056075e-01   8.95696262e+00   1.75046729e-01   5.70093458e-02]\n",
      "[ 0.66684137  2.08054039  0.24927018  0.59992119  0.4253542   2.02536585\n",
      "  0.24722699  0.0094943 ]\n",
      "[ 214.  172.  214.  214.  184.  214.   38.   70.]\n"
     ]
    },
    {
     "data": {
      "text/plain": [
       "array([[ 1.        , -0.27373196,  0.15679367, -0.06980881, -0.2660865 ,\n",
       "        -0.27544249,  0.32660288, -0.24134641],\n",
       "       [-0.27373196,  1.        , -0.48179851, -0.16592672,  0.00539567,\n",
       "        -0.44375003, -0.49226212,  0.08305953],\n",
       "       [ 0.15679367, -0.48179851,  1.        , -0.00552372,  0.32595845,\n",
       "        -0.25959201,  0.4794039 , -0.07440215],\n",
       "       [-0.06980881, -0.16592672, -0.00552372,  1.        , -0.19333085,\n",
       "        -0.20873215, -0.10215131, -0.09420073],\n",
       "       [-0.2660865 ,  0.00539567,  0.32595845, -0.19333085,  1.        ,\n",
       "        -0.31783615, -0.04261806, -0.00771905],\n",
       "       [-0.27544249, -0.44375003, -0.25959201, -0.20873215, -0.31783615,\n",
       "         1.        , -0.11284097,  0.12496822],\n",
       "       [ 0.32660288, -0.49226212,  0.4794039 , -0.10215131, -0.04261806,\n",
       "        -0.11284097,  1.        , -0.05869176],\n",
       "       [-0.24134641,  0.08305953, -0.07440215, -0.09420073, -0.00771905,\n",
       "         0.12496822, -0.05869176,  1.        ]])"
      ]
     },
     "execution_count": 5,
     "metadata": {},
     "output_type": "execute_result"
    }
   ],
   "source": [
    "from pyspark.mllib.stat import Statistics\n",
    "# Basics Statistics\n",
    "partsNum = parts.map(lambda line: line[0:8])\n",
    "summary = Statistics.colStats(partsNum)\n",
    "print(summary.mean())\n",
    "print(summary.variance())\n",
    "print(summary.numNonzeros())\n",
    "Statistics.corr(partsNum, method=\"pearson\")"
   ]
  },
  {
   "cell_type": "markdown",
   "metadata": {},
   "source": [
    "# Classification supervisée"
   ]
  },
  {
   "cell_type": "markdown",
   "metadata": {},
   "source": [
    "## Naive Bayes"
   ]
  },
  {
   "cell_type": "code",
   "execution_count": 6,
   "metadata": {
    "collapsed": false
   },
   "outputs": [
    {
     "data": {
      "text/html": [
       "<div>\n",
       "<table border=\"1\" class=\"dataframe\">\n",
       "  <thead>\n",
       "    <tr style=\"text-align: right;\">\n",
       "      <th></th>\n",
       "      <th>1-Methode</th>\n",
       "      <th>2-Precision</th>\n",
       "      <th>3-Rappel</th>\n",
       "      <th>4-F_mesure</th>\n",
       "    </tr>\n",
       "  </thead>\n",
       "  <tbody>\n",
       "    <tr>\n",
       "      <th>0</th>\n",
       "      <td>Naive Bayes</td>\n",
       "      <td>0.328122</td>\n",
       "      <td>0.33751</td>\n",
       "      <td>1.012529</td>\n",
       "    </tr>\n",
       "  </tbody>\n",
       "</table>\n",
       "</div>"
      ],
      "text/plain": [
       "     1-Methode  2-Precision  3-Rappel  4-F_mesure\n",
       "0  Naive Bayes     0.328122   0.33751    1.012529"
      ]
     },
     "execution_count": 6,
     "metadata": {},
     "output_type": "execute_result"
    }
   ],
   "source": [
    "from pyspark.mllib.classification import NaiveBayes, NaiveBayesModel\n",
    "import utils_mesure\n",
    "nomF_svm = \"glass_svm\"\n",
    "data = sc.textFile(\"file:/C:/spark-1.6.0-bin-hadoop2.4/\"+nomF_svm+\".csv\")\n",
    "\n",
    "# suppression du header\n",
    "nomColInit = data.first()\n",
    "data2 = data.filter(lambda line: nomColInit != line) \n",
    "data = data2.map(utils_mesure.parseLine)\n",
    "\n",
    "# Echantillonnage 60% entrainement et 40% test\n",
    "training, test = data.randomSplit([0.6, 0.4], seed=0)\n",
    "# construction d'un modèle Bayesien sur l'échantillon d'entrainement\n",
    "model = NaiveBayes.train(training, 1.0)\n",
    "\n",
    "# Application sur l'echantillon test\n",
    "predictionAndLabel = test.map(lambda p: (model.predict(p.features), p.label))\n",
    "\n",
    "# Calcul des indicateurs du modèle\n",
    "accuracy = 1.0 * predictionAndLabel.filter(lambda (x, v): x == v ).count() / test.count()\n",
    "\n",
    "utils_mesure.tabSum(predictionAndLabel, 7, 'Naive Bayes')\n",
    "\n"
   ]
  },
  {
   "cell_type": "markdown",
   "metadata": {},
   "source": [
    "## Decision Tree"
   ]
  },
  {
   "cell_type": "code",
   "execution_count": 8,
   "metadata": {
    "collapsed": false
   },
   "outputs": [
    {
     "name": "stdout",
     "output_type": "stream",
     "text": [
      "Test Error = 0.388888888889\n",
      "Learned classification tree model:\n",
      "DecisionTreeModel classifier of depth 8 with 69 nodes\n",
      "  If (feature 1 <= 2.24)\n",
      "   If (feature 6 <= 0.27)\n",
      "    If (feature 0 <= 13.99)\n",
      "     If (feature 2 <= 1.38)\n",
      "      If (feature 3 <= 73.21)\n",
      "       Predict: 2.0\n",
      "      Else (feature 3 > 73.21)\n",
      "       Predict: 6.0\n",
      "     Else (feature 2 > 1.38)\n",
      "      If (feature 0 <= 13.38)\n",
      "       If (feature 5 <= 12.5)\n",
      "        Predict: 4.0\n",
      "       Else (feature 5 > 12.5)\n",
      "        Predict: 2.0\n",
      "      Else (feature 0 > 13.38)\n",
      "       Predict: 2.0\n",
      "    Else (feature 0 > 13.99)\n",
      "     If (feature 4 <= 0.0)\n",
      "      Predict: 5.0\n",
      "     Else (feature 4 > 0.0)\n",
      "      If (feature 0 <= 14.56)\n",
      "       Predict: 2.0\n",
      "      Else (feature 0 > 14.56)\n",
      "       Predict: 6.0\n",
      "   Else (feature 6 > 0.27)\n",
      "    Predict: 6.0\n",
      "  Else (feature 1 > 2.24)\n",
      "   If (feature 2 <= 1.38)\n",
      "    If (feature 3 <= 72.73)\n",
      "     If (feature 3 <= 72.55)\n",
      "      If (feature 0 <= 13.99)\n",
      "       If (feature 5 <= 8.42)\n",
      "        Predict: 2.0\n",
      "       Else (feature 5 > 8.42)\n",
      "        If (feature 1 <= 3.15)\n",
      "         Predict: 2.0\n",
      "        Else (feature 1 > 3.15)\n",
      "         Predict: 1.0\n",
      "      Else (feature 0 > 13.99)\n",
      "       If (feature 1 <= 3.78)\n",
      "        Predict: 3.0\n",
      "       Else (feature 1 > 3.78)\n",
      "        If (feature 1 <= 3.84)\n",
      "         Predict: 1.0\n",
      "        Else (feature 1 > 3.84)\n",
      "         Predict: 3.0\n",
      "     Else (feature 3 > 72.55)\n",
      "      If (feature 1 <= 3.59)\n",
      "       If (feature 0 <= 13.2)\n",
      "        If (feature 0 <= 12.86)\n",
      "         Predict: 3.0\n",
      "        Else (feature 0 > 12.86)\n",
      "         Predict: 1.0\n",
      "       Else (feature 0 > 13.2)\n",
      "        Predict: 3.0\n",
      "      Else (feature 1 > 3.59)\n",
      "       Predict: 1.0\n",
      "    Else (feature 3 > 72.73)\n",
      "     If (feature 2 <= 1.28)\n",
      "      If (feature 5 <= 8.78)\n",
      "       If (feature 1 <= 3.54)\n",
      "        Predict: 1.0\n",
      "       Else (feature 1 > 3.54)\n",
      "        If (feature 4 <= 0.56)\n",
      "         Predict: 2.0\n",
      "        Else (feature 4 > 0.56)\n",
      "         If (feature 1 <= 3.55)\n",
      "          Predict: 2.0\n",
      "         Else (feature 1 > 3.55)\n",
      "          Predict: 1.0\n",
      "      Else (feature 5 > 8.78)\n",
      "       If (feature 0 <= 12.99)\n",
      "        Predict: 2.0\n",
      "       Else (feature 0 > 12.99)\n",
      "        Predict: 3.0\n",
      "     Else (feature 2 > 1.28)\n",
      "      Predict: 1.0\n",
      "   Else (feature 2 > 1.38)\n",
      "    If (feature 4 <= 0.69)\n",
      "     If (feature 3 <= 72.04)\n",
      "      If (feature 0 <= 13.53)\n",
      "       Predict: 3.0\n",
      "      Else (feature 0 > 13.53)\n",
      "       Predict: 2.0\n",
      "     Else (feature 3 > 72.04)\n",
      "      If (feature 7 <= 0.22)\n",
      "       If (feature 4 <= 0.54)\n",
      "        If (feature 1 <= 3.43)\n",
      "         Predict: 2.0\n",
      "        Else (feature 1 > 3.43)\n",
      "         Predict: 1.0\n",
      "       Else (feature 4 > 0.54)\n",
      "        Predict: 2.0\n",
      "      Else (feature 7 > 0.22)\n",
      "       If (feature 0 <= 12.82)\n",
      "        Predict: 1.0\n",
      "       Else (feature 0 > 12.82)\n",
      "        Predict: 2.0\n",
      "    Else (feature 4 > 0.69)\n",
      "     If (feature 1 <= 2.76)\n",
      "      Predict: 4.0\n",
      "     Else (feature 1 > 2.76)\n",
      "      Predict: 6.0\n",
      "\n"
     ]
    }
   ],
   "source": [
    "from pyspark.mllib.tree import DecisionTree, DecisionTreeModel\n",
    "import utils_mesure\n",
    "data = sc.textFile(\"file:/C:/spark-1.6.0-bin-hadoop2.4/\"+nomF_svm+\".csv\")\n",
    "\n",
    "# suppression du header\n",
    "nomColInit = data.first()\n",
    "data2 = data.filter(lambda line: nomColInit != line) \n",
    "data = data2.map(utils_mesure.parseLine)\n",
    "\n",
    "# Echantillonnage 60% entrainement et 40% test\n",
    "training, test = data.randomSplit([0.6, 0.4], seed=0)\n",
    "# Construction du modèle\n",
    "model = DecisionTree.trainClassifier(training, numClasses=7, categoricalFeaturesInfo={},\n",
    "                                     impurity='entropy', maxDepth=10, maxBins=32)\n",
    "# Test \n",
    "predictions = model.predict(test.map(lambda x: x.features))\n",
    "labelsAndPredictions = test.map(lambda lp: lp.label).zip(predictions)\n",
    "testErr = labelsAndPredictions.filter(lambda (v, p): v != p).count() / float(test.count())\n",
    "print('Test Error = ' + str(testErr))\n",
    "print('Learned classification tree model:')\n",
    "print(model.toDebugString())"
   ]
  },
  {
   "cell_type": "code",
   "execution_count": 8,
   "metadata": {
    "collapsed": false
   },
   "outputs": [
    {
     "data": {
      "text/html": [
       "<div>\n",
       "<table border=\"1\" class=\"dataframe\">\n",
       "  <thead>\n",
       "    <tr style=\"text-align: right;\">\n",
       "      <th></th>\n",
       "      <th>1-Methode</th>\n",
       "      <th>2-Precision</th>\n",
       "      <th>3-Rappel</th>\n",
       "      <th>4-F_mesure</th>\n",
       "    </tr>\n",
       "  </thead>\n",
       "  <tbody>\n",
       "    <tr>\n",
       "      <th>0</th>\n",
       "      <td>Decision Tree</td>\n",
       "      <td>0.494245</td>\n",
       "      <td>0.533447</td>\n",
       "      <td>1.60034</td>\n",
       "    </tr>\n",
       "  </tbody>\n",
       "</table>\n",
       "</div>"
      ],
      "text/plain": [
       "       1-Methode  2-Precision  3-Rappel  4-F_mesure\n",
       "0  Decision Tree     0.494245  0.533447     1.60034"
      ]
     },
     "execution_count": 8,
     "metadata": {},
     "output_type": "execute_result"
    }
   ],
   "source": [
    "# Mesures globales du mmodèle\n",
    "utils_mesure.tabSum(labelsAndPredictions, 7, 'Decision Tree')"
   ]
  },
  {
   "cell_type": "markdown",
   "metadata": {},
   "source": [
    "L'affichage de l'arbre de décision n'est pas très lisible, il serait intéressant d'écrire un module qui permette de faire de la visu. Avec un taux d'erreur à 38,88% le modèle n'est pas très fiable."
   ]
  },
  {
   "cell_type": "markdown",
   "metadata": {},
   "source": [
    "## Méthodes non utilisables"
   ]
  },
  {
   "cell_type": "markdown",
   "metadata": {},
   "source": [
    "### Gradient Boosted Tree"
   ]
  },
  {
   "cell_type": "markdown",
   "metadata": {},
   "source": [
    "Note: GBTs do not yet support multiclass classification. For multiclass problems, please use decision trees or Random Forests.\n",
    "\n",
    "Cette méthode n'est donc pas appliquable à notre jeu de données."
   ]
  },
  {
   "cell_type": "markdown",
   "metadata": {},
   "source": [
    "### Survival regression"
   ]
  },
  {
   "cell_type": "markdown",
   "metadata": {},
   "source": [
    "L'analyse de survie repose souvent sur des séries temporelles de données longitudinales.\n",
    "\n",
    "Notre Data Set ne correspond pas à ce type de modèle"
   ]
  },
  {
   "cell_type": "markdown",
   "metadata": {},
   "source": [
    "# Classification non Supervisée"
   ]
  },
  {
   "cell_type": "markdown",
   "metadata": {},
   "source": [
    "## Kmeans"
   ]
  },
  {
   "cell_type": "code",
   "execution_count": 10,
   "metadata": {
    "collapsed": false
   },
   "outputs": [
    {
     "name": "stdout",
     "output_type": "stream",
     "text": [
      "Within Set Sum of Squared Error = 218.759357261\n"
     ]
    }
   ],
   "source": [
    "from pyspark.mllib.clustering import KMeans, KMeansModel\n",
    "from numpy import array\n",
    "from math import sqrt\n",
    "import numpy\n",
    "\n",
    "\n",
    "data = sc.textFile(\"file:/C:/spark-1.6.0-bin-hadoop2.4/\"+nomF_svm+\".csv\")\n",
    "\n",
    "# suppression du header\n",
    "nomColInit = data.first()\n",
    "data2 = data.filter(lambda line: nomColInit != line) \n",
    "data = data2.map(utils_mesure.parseLine2)\n",
    "dataTrain = data2.map(utils_mesure.parseLine3)\n",
    "# Construction du Kmeans\n",
    "clusters = KMeans.train(dataTrain, 6, maxIterations=10,\n",
    "        runs=10, initializationMode=\"random\")\n",
    "def error(point):\n",
    "    center = clusters.centers[clusters.predict(point)]\n",
    "    return sqrt(sum([x**2 for x in (point - center)]))\n",
    "\n",
    "WSSSE = dataTrain.map(lambda point: error(point)).reduce(lambda x, y: x + y)\n",
    "print(\"Within Set Sum of Squared Error = \" + str(WSSSE))"
   ]
  },
  {
   "cell_type": "code",
   "execution_count": 11,
   "metadata": {
    "collapsed": false
   },
   "outputs": [
    {
     "data": {
      "text/html": [
       "<div>\n",
       "<table border=\"1\" class=\"dataframe\">\n",
       "  <thead>\n",
       "    <tr style=\"text-align: right;\">\n",
       "      <th></th>\n",
       "      <th>gp1_R</th>\n",
       "      <th>gp2_R</th>\n",
       "      <th>gp3_R</th>\n",
       "      <th>gp4_R</th>\n",
       "      <th>gp5_R</th>\n",
       "      <th>gp6_R</th>\n",
       "    </tr>\n",
       "  </thead>\n",
       "  <tbody>\n",
       "    <tr>\n",
       "      <th>gp1_P</th>\n",
       "      <td>48</td>\n",
       "      <td>59</td>\n",
       "      <td>11</td>\n",
       "      <td>0</td>\n",
       "      <td>0</td>\n",
       "      <td>1</td>\n",
       "    </tr>\n",
       "    <tr>\n",
       "      <th>gp2_P</th>\n",
       "      <td>22</td>\n",
       "      <td>5</td>\n",
       "      <td>6</td>\n",
       "      <td>2</td>\n",
       "      <td>4</td>\n",
       "      <td>1</td>\n",
       "    </tr>\n",
       "    <tr>\n",
       "      <th>gp3_P</th>\n",
       "      <td>0</td>\n",
       "      <td>0</td>\n",
       "      <td>0</td>\n",
       "      <td>1</td>\n",
       "      <td>3</td>\n",
       "      <td>24</td>\n",
       "    </tr>\n",
       "    <tr>\n",
       "      <th>gp4_P</th>\n",
       "      <td>0</td>\n",
       "      <td>10</td>\n",
       "      <td>0</td>\n",
       "      <td>7</td>\n",
       "      <td>2</td>\n",
       "      <td>0</td>\n",
       "    </tr>\n",
       "    <tr>\n",
       "      <th>gp5_P</th>\n",
       "      <td>0</td>\n",
       "      <td>0</td>\n",
       "      <td>0</td>\n",
       "      <td>2</td>\n",
       "      <td>0</td>\n",
       "      <td>0</td>\n",
       "    </tr>\n",
       "    <tr>\n",
       "      <th>gp6_P</th>\n",
       "      <td>0</td>\n",
       "      <td>2</td>\n",
       "      <td>0</td>\n",
       "      <td>1</td>\n",
       "      <td>0</td>\n",
       "      <td>3</td>\n",
       "    </tr>\n",
       "  </tbody>\n",
       "</table>\n",
       "</div>"
      ],
      "text/plain": [
       "       gp1_R  gp2_R  gp3_R  gp4_R  gp5_R  gp6_R\n",
       "gp1_P     48     59     11      0      0      1\n",
       "gp2_P     22      5      6      2      4      1\n",
       "gp3_P      0      0      0      1      3     24\n",
       "gp4_P      0     10      0      7      2      0\n",
       "gp5_P      0      0      0      2      0      0\n",
       "gp6_P      0      2      0      1      0      3"
      ]
     },
     "execution_count": 11,
     "metadata": {},
     "output_type": "execute_result"
    }
   ],
   "source": [
    "# Répartition des groupes\n",
    "gpKmeans = data.map(lambda p: (clusters.predict(p[0:8]),p[8]))\n",
    "gpKmeansK = gpKmeans.map(lambda p: (str(p[0])+\"_\"+str(p[1]),1))\n",
    "gpKmeansK2 = gpKmeansK.reduceByKey(lambda a, b: a+b)\n",
    "listeR = gpKmeansK2.collect()\n",
    "# Construction du tableau CD\n",
    "# Découpage\n",
    "listeF = []\n",
    "i = 0\n",
    "maxN = len(listeR)\n",
    "while i < maxN:\n",
    "    listeR2 = listeR[i][0].split(\"_\") + [str(listeR[i][1])]\n",
    "    listeF = listeF + [listeR2]\n",
    "    i += 1\n",
    "listeF\n",
    "# construction de la liste\n",
    "i = 0\n",
    "l = numpy.array([[0]*6]*6)\n",
    "while i < maxN:\n",
    "    a = int(listeF[i][0])\n",
    "    b = int(float(listeF[i][1])) -1\n",
    "    l[a][b] = int(listeF[i][2])\n",
    "    i += 1\n",
    "# Affichage \n",
    "df = pd.DataFrame(l, index = ['gp1_P', 'gp2_P', 'gp3_P', 'gp4_P', 'gp5_P', 'gp6_P'],\n",
    "                  columns = ['gp1_R', 'gp2_R', 'gp3_R', 'gp4_R', 'gp5_R', 'gp6_R'])\n",
    "df"
   ]
  },
  {
   "cell_type": "markdown",
   "metadata": {},
   "source": [
    "### Interprétation (à finir)"
   ]
  },
  {
   "cell_type": "raw",
   "metadata": {},
   "source": [
    "Avec Kmeans, 2 groupes se distinguent : 4 et 6\n",
    "Le groupe gp1_P regroupe 123 des individus et mélange nettement gp1_R / gp2_R / gp3_R"
   ]
  },
  {
   "cell_type": "markdown",
   "metadata": {},
   "source": [
    "## Gaussian Mixture "
   ]
  },
  {
   "cell_type": "code",
   "execution_count": 12,
   "metadata": {
    "collapsed": true
   },
   "outputs": [
    {
     "name": "stdout",
     "output_type": "stream",
     "text": [
      "('weight = ', 0.046728397296341102, 'mu = ', DenseVector([12.907, 0.706, 1.118, 72.839, 0.285, 11.38, 0.483, 0.062]), 'sigma = ', array([[ 4.90294466, -0.05631484, -0.7275468 ,  1.22210563, -0.30635365,\n",
      "        -4.72260616, -0.20142127, -0.11049502],\n",
      "       [-0.05631484,  1.36791164,  0.19238203, -0.32013141,  0.15534041,\n",
      "        -1.46908149, -0.03355765, -0.04377179],\n",
      "       [-0.7275468 ,  0.19238203,  0.33155659, -0.71288007,  0.16348969,\n",
      "         0.37368229,  0.3415917 ,  0.05340415],\n",
      "       [ 1.22210563, -0.32013141, -0.71288007,  2.55753569, -0.26516784,\n",
      "        -1.1155733 , -1.35886187, -0.10687848],\n",
      "       [-0.30635365,  0.15534041,  0.16348969, -0.26516784,  0.09376459,\n",
      "         0.02761908,  0.09712724,  0.02610997],\n",
      "       [-4.72260616, -1.46908149,  0.37368229, -1.1155733 ,  0.02761908,\n",
      "         6.92565306,  0.1394479 ,  0.11700052],\n",
      "       [-0.20142127, -0.03355765,  0.3415917 , -1.35886187,  0.09712724,\n",
      "         0.1394479 ,  1.04121094,  0.05825479],\n",
      "       [-0.11049502, -0.04377179,  0.05340415, -0.10687848,  0.02610997,\n",
      "         0.11700052,  0.05825479,  0.01555595]]))\n",
      "('weight = ', 0.023364485981460775, 'mu = ', DenseVector([13.368, 1.27, 2.498, 71.624, 3.392, 7.21, 0.44, 0.024]), 'sigma = ', array([[  9.81096000e-01,   1.43924000e+00,   1.97276000e-01,\n",
      "         -1.01009200e+00,  -1.39153600e+00,  -5.77080000e-01,\n",
      "          2.82480000e-01,   3.58080000e-02],\n",
      "       [  1.43924000e+00,   2.51736000e+00,  -1.93000000e-02,\n",
      "         -7.48860000e-01,  -3.28992000e+00,  -6.08140000e-01,\n",
      "          6.20400000e-01,   5.76000000e-02],\n",
      "       [  1.97276000e-01,  -1.93000000e-02,   7.71136000e-01,\n",
      "         -1.53551200e+00,   9.27584000e-01,  -7.97560000e-01,\n",
      "          4.40880000e-01,  -1.81920000e-02],\n",
      "       [ -1.01009200e+00,  -7.48860000e-01,  -1.53551200e+00,\n",
      "          3.57498400e+00,  -1.22296800e+00,   1.80430000e+00,\n",
      "         -7.62960000e-01,   5.90400000e-03],\n",
      "       [ -1.39153600e+00,  -3.28992000e+00,   9.27584000e-01,\n",
      "         -1.22296800e+00,   5.94757600e+00,  -1.74900000e-01,\n",
      "         -7.53280000e-01,  -7.75680000e-02],\n",
      "       [ -5.77080000e-01,  -6.08140000e-01,  -7.97560000e-01,\n",
      "          1.80430000e+00,  -1.74900000e-01,   9.83480000e-01,\n",
      "         -5.89600000e-01,   3.60000000e-03],\n",
      "       [  2.82480000e-01,   6.20400000e-01,   4.40880000e-01,\n",
      "         -7.62960000e-01,  -7.53280000e-01,  -5.89600000e-01,\n",
      "          7.74400000e-01,  -1.05600000e-02],\n",
      "       [  3.58080000e-02,   5.76000000e-02,  -1.81920000e-02,\n",
      "          5.90400000e-03,  -7.75680000e-02,   3.60000000e-03,\n",
      "         -1.05600000e-02,   2.30400000e-03]]))\n"
     ]
    }
   ],
   "source": [
    "from pyspark.mllib.clustering import GaussianMixture\n",
    "\n",
    "# Construction du model avc le mm dataTrain que Kmeans\n",
    "gmm = GaussianMixture.train(dataTrain, 6)\n",
    "\n",
    "# sortie des parameters du modele\n",
    "for i in range(2):\n",
    "    print (\"weight = \", gmm.weights[i], \"mu = \", gmm.gaussians[i].mu,\n",
    "        \"sigma = \", gmm.gaussians[i].sigma.toArray())"
   ]
  },
  {
   "cell_type": "markdown",
   "metadata": {},
   "source": [
    "### Interprétation (à finir)"
   ]
  },
  {
   "cell_type": "markdown",
   "metadata": {},
   "source": [
    "# Mesures d'évaluation (en cours)"
   ]
  },
  {
   "cell_type": "code",
   "execution_count": 30,
   "metadata": {
    "collapsed": true
   },
   "outputs": [
    {
     "ename": "Exception",
     "evalue": "(\"You must build Spark with Hive. Export 'SPARK_HIVE=true' and run build/sbt assembly\", Py4JJavaError(u'An error occurred while calling None.org.apache.spark.sql.hive.HiveContext.\\n', JavaObject id=o930))",
     "output_type": "error",
     "traceback": [
      "\u001b[1;31m---------------------------------------------------------------------------\u001b[0m",
      "\u001b[1;31mException\u001b[0m                                 Traceback (most recent call last)",
      "\u001b[1;32m<ipython-input-30-248ce9351d60>\u001b[0m in \u001b[0;36m<module>\u001b[1;34m()\u001b[0m\n\u001b[0;32m      2\u001b[0m \u001b[1;33m\u001b[0m\u001b[0m\n\u001b[0;32m      3\u001b[0m \u001b[1;31m# Instantiate metrics object\u001b[0m\u001b[1;33m\u001b[0m\u001b[1;33m\u001b[0m\u001b[0m\n\u001b[1;32m----> 4\u001b[1;33m \u001b[0mmetrics\u001b[0m \u001b[1;33m=\u001b[0m \u001b[0mMultilabelMetrics\u001b[0m\u001b[1;33m(\u001b[0m\u001b[0mlabelsAndPredictions\u001b[0m\u001b[1;33m)\u001b[0m\u001b[1;33m\u001b[0m\u001b[0m\n\u001b[0m\u001b[0;32m      5\u001b[0m \u001b[1;33m\u001b[0m\u001b[0m\n\u001b[0;32m      6\u001b[0m \u001b[1;31m# Summary stats\u001b[0m\u001b[1;33m\u001b[0m\u001b[1;33m\u001b[0m\u001b[0m\n",
      "\u001b[1;32mC:\\spark-1.6.0-bin-hadoop2.4\\python\\pyspark\\mllib\\evaluation.py\u001b[0m in \u001b[0;36m__init__\u001b[1;34m(self, predictionAndLabels)\u001b[0m\n\u001b[0;32m    427\u001b[0m         \u001b[0msql_ctx\u001b[0m \u001b[1;33m=\u001b[0m \u001b[0mSQLContext\u001b[0m\u001b[1;33m.\u001b[0m\u001b[0mgetOrCreate\u001b[0m\u001b[1;33m(\u001b[0m\u001b[0msc\u001b[0m\u001b[1;33m)\u001b[0m\u001b[1;33m\u001b[0m\u001b[0m\n\u001b[0;32m    428\u001b[0m         df = sql_ctx.createDataFrame(predictionAndLabels,\n\u001b[1;32m--> 429\u001b[1;33m                                      schema=sql_ctx._inferSchema(predictionAndLabels))\n\u001b[0m\u001b[0;32m    430\u001b[0m         \u001b[0mjava_class\u001b[0m \u001b[1;33m=\u001b[0m \u001b[0msc\u001b[0m\u001b[1;33m.\u001b[0m\u001b[0m_jvm\u001b[0m\u001b[1;33m.\u001b[0m\u001b[0morg\u001b[0m\u001b[1;33m.\u001b[0m\u001b[0mapache\u001b[0m\u001b[1;33m.\u001b[0m\u001b[0mspark\u001b[0m\u001b[1;33m.\u001b[0m\u001b[0mmllib\u001b[0m\u001b[1;33m.\u001b[0m\u001b[0mevaluation\u001b[0m\u001b[1;33m.\u001b[0m\u001b[0mMultilabelMetrics\u001b[0m\u001b[1;33m\u001b[0m\u001b[0m\n\u001b[0;32m    431\u001b[0m         \u001b[0mjava_model\u001b[0m \u001b[1;33m=\u001b[0m \u001b[0mjava_class\u001b[0m\u001b[1;33m(\u001b[0m\u001b[0mdf\u001b[0m\u001b[1;33m.\u001b[0m\u001b[0m_jdf\u001b[0m\u001b[1;33m)\u001b[0m\u001b[1;33m\u001b[0m\u001b[0m\n",
      "\u001b[1;32mC:\\spark-1.6.0-bin-hadoop2.4\\python\\pyspark\\sql\\context.pyc\u001b[0m in \u001b[0;36mcreateDataFrame\u001b[1;34m(self, data, schema, samplingRatio)\u001b[0m\n\u001b[0;32m    428\u001b[0m             \u001b[0mrdd\u001b[0m\u001b[1;33m,\u001b[0m \u001b[0mschema\u001b[0m \u001b[1;33m=\u001b[0m \u001b[0mself\u001b[0m\u001b[1;33m.\u001b[0m\u001b[0m_createFromLocal\u001b[0m\u001b[1;33m(\u001b[0m\u001b[0mdata\u001b[0m\u001b[1;33m,\u001b[0m \u001b[0mschema\u001b[0m\u001b[1;33m)\u001b[0m\u001b[1;33m\u001b[0m\u001b[0m\n\u001b[0;32m    429\u001b[0m         \u001b[0mjrdd\u001b[0m \u001b[1;33m=\u001b[0m \u001b[0mself\u001b[0m\u001b[1;33m.\u001b[0m\u001b[0m_jvm\u001b[0m\u001b[1;33m.\u001b[0m\u001b[0mSerDeUtil\u001b[0m\u001b[1;33m.\u001b[0m\u001b[0mtoJavaArray\u001b[0m\u001b[1;33m(\u001b[0m\u001b[0mrdd\u001b[0m\u001b[1;33m.\u001b[0m\u001b[0m_to_java_object_rdd\u001b[0m\u001b[1;33m(\u001b[0m\u001b[1;33m)\u001b[0m\u001b[1;33m)\u001b[0m\u001b[1;33m\u001b[0m\u001b[0m\n\u001b[1;32m--> 430\u001b[1;33m         \u001b[0mjdf\u001b[0m \u001b[1;33m=\u001b[0m \u001b[0mself\u001b[0m\u001b[1;33m.\u001b[0m\u001b[0m_ssql_ctx\u001b[0m\u001b[1;33m.\u001b[0m\u001b[0mapplySchemaToPythonRDD\u001b[0m\u001b[1;33m(\u001b[0m\u001b[0mjrdd\u001b[0m\u001b[1;33m.\u001b[0m\u001b[0mrdd\u001b[0m\u001b[1;33m(\u001b[0m\u001b[1;33m)\u001b[0m\u001b[1;33m,\u001b[0m \u001b[0mschema\u001b[0m\u001b[1;33m.\u001b[0m\u001b[0mjson\u001b[0m\u001b[1;33m(\u001b[0m\u001b[1;33m)\u001b[0m\u001b[1;33m)\u001b[0m\u001b[1;33m\u001b[0m\u001b[0m\n\u001b[0m\u001b[0;32m    431\u001b[0m         \u001b[0mdf\u001b[0m \u001b[1;33m=\u001b[0m \u001b[0mDataFrame\u001b[0m\u001b[1;33m(\u001b[0m\u001b[0mjdf\u001b[0m\u001b[1;33m,\u001b[0m \u001b[0mself\u001b[0m\u001b[1;33m)\u001b[0m\u001b[1;33m\u001b[0m\u001b[0m\n\u001b[0;32m    432\u001b[0m         \u001b[0mdf\u001b[0m\u001b[1;33m.\u001b[0m\u001b[0m_schema\u001b[0m \u001b[1;33m=\u001b[0m \u001b[0mschema\u001b[0m\u001b[1;33m\u001b[0m\u001b[0m\n",
      "\u001b[1;32mC:\\spark-1.6.0-bin-hadoop2.4\\python\\pyspark\\sql\\context.pyc\u001b[0m in \u001b[0;36m_ssql_ctx\u001b[1;34m(self)\u001b[0m\n\u001b[0;32m    689\u001b[0m             raise Exception(\"You must build Spark with Hive. \"\n\u001b[0;32m    690\u001b[0m                             \u001b[1;34m\"Export 'SPARK_HIVE=true' and run \"\u001b[0m\u001b[1;33m\u001b[0m\u001b[0m\n\u001b[1;32m--> 691\u001b[1;33m                             \"build/sbt assembly\", e)\n\u001b[0m\u001b[0;32m    692\u001b[0m \u001b[1;33m\u001b[0m\u001b[0m\n\u001b[0;32m    693\u001b[0m     \u001b[1;32mdef\u001b[0m \u001b[0m_get_hive_ctx\u001b[0m\u001b[1;33m(\u001b[0m\u001b[0mself\u001b[0m\u001b[1;33m)\u001b[0m\u001b[1;33m:\u001b[0m\u001b[1;33m\u001b[0m\u001b[0m\n",
      "\u001b[1;31mException\u001b[0m: (\"You must build Spark with Hive. Export 'SPARK_HIVE=true' and run build/sbt assembly\", Py4JJavaError(u'An error occurred while calling None.org.apache.spark.sql.hive.HiveContext.\\n', JavaObject id=o930))"
     ]
    }
   ],
   "source": [
    "from pyspark.mllib.evaluation import MultilabelMetrics\n",
    "\n",
    "# Instantiate metrics object\n",
    "metrics = MultilabelMetrics(labelsAndPredictions)\n",
    "\n",
    "# Summary stats\n",
    "print(\"Recall = %s\" % metrics.recall())\n",
    "print(\"Precision = %s\" % metrics.precision())\n",
    "print(\"F1 measure = %s\" % metrics.f1Measure())\n",
    "print(\"Accuracy = %s\" % metrics.accuracy)"
   ]
  },
  {
   "cell_type": "markdown",
   "metadata": {},
   "source": [
    "(\"You must build Spark with Hive. Export 'SPARK_HIVE=true' and run build/sbt assembly\", ...)"
   ]
  },
  {
   "cell_type": "markdown",
   "metadata": {},
   "source": [
    "# En cours\n"
   ]
  },
  {
   "cell_type": "code",
   "execution_count": 1,
   "metadata": {
    "collapsed": false
   },
   "outputs": [],
   "source": [
    "# PIC\n",
    "from __future__ import print_function\n",
    "from pyspark.mllib.clustering import PowerIterationClustering, PowerIterationClusteringModel\n",
    "\n",
    "# Load and parse the data\n",
    "data = sc.textFile(\"data/mllib/pic_data.txt\")\n",
    "similarities = data.map(lambda line: tuple([float(x) for x in line.split(' ')]))\n",
    "\n",
    "# Cluster the data into two classes using PowerIterationClustering\n",
    "model = PowerIterationClustering.train(similarities, 2, 10)\n",
    "\n",
    "model.assignments().foreach(lambda x: print(str(x.id) + \" -> \" + str(x.cluster)))\n",
    "\n"
   ]
  },
  {
   "cell_type": "code",
   "execution_count": 2,
   "metadata": {
    "collapsed": false
   },
   "outputs": [],
   "source": [
    "def printM(x):\n",
    "    return (str(x.id) + \" -> \" + str(x.cluster))\n",
    "    "
   ]
  },
  {
   "cell_type": "code",
   "execution_count": 3,
   "metadata": {
    "collapsed": false
   },
   "outputs": [],
   "source": [
    "model.assignments().foreach(lambda x: printM(x))"
   ]
  },
  {
   "cell_type": "code",
   "execution_count": 12,
   "metadata": {
    "collapsed": true
   },
   "outputs": [
    {
     "ename": "ValueError",
     "evalue": "Cannot run multiple SparkContexts at once; existing SparkContext(app=PySparkShell, master=local[*]) created by <module> at C:\\Users\\lata\\Anaconda2\\lib\\site-packages\\IPython\\utils\\py3compat.py:278 ",
     "output_type": "error",
     "traceback": [
      "\u001b[1;31m---------------------------------------------------------------------------\u001b[0m",
      "\u001b[1;31mValueError\u001b[0m                                Traceback (most recent call last)",
      "\u001b[1;32m<ipython-input-12-9e909aaf093c>\u001b[0m in \u001b[0;36m<module>\u001b[1;34m()\u001b[0m\n\u001b[0;32m      4\u001b[0m \u001b[1;32mfrom\u001b[0m \u001b[0mpyspark\u001b[0m \u001b[1;32mimport\u001b[0m  \u001b[0mSparkContext\u001b[0m\u001b[1;33m\u001b[0m\u001b[0m\n\u001b[0;32m      5\u001b[0m \u001b[1;32mfrom\u001b[0m \u001b[0mpyspark\u001b[0m\u001b[1;33m.\u001b[0m\u001b[0msql\u001b[0m \u001b[1;32mimport\u001b[0m \u001b[0mSQLContext\u001b[0m\u001b[1;33m\u001b[0m\u001b[0m\n\u001b[1;32m----> 6\u001b[1;33m \u001b[0msc\u001b[0m \u001b[1;33m=\u001b[0m \u001b[0mSparkContext\u001b[0m\u001b[1;33m(\u001b[0m \u001b[1;34m'local'\u001b[0m\u001b[1;33m,\u001b[0m \u001b[1;34m'pyspark'\u001b[0m\u001b[1;33m)\u001b[0m\u001b[1;33m\u001b[0m\u001b[0m\n\u001b[0m\u001b[0;32m      7\u001b[0m \u001b[0msqlContext\u001b[0m \u001b[1;33m=\u001b[0m \u001b[0mSQLContext\u001b[0m\u001b[1;33m(\u001b[0m\u001b[0msc\u001b[0m\u001b[1;33m)\u001b[0m\u001b[1;33m\u001b[0m\u001b[0m\n\u001b[0;32m      8\u001b[0m \u001b[1;33m\u001b[0m\u001b[0m\n",
      "\u001b[1;32mC:\\spark-1.6.0-bin-hadoop2.4\\python\\pyspark\\context.pyc\u001b[0m in \u001b[0;36m__init__\u001b[1;34m(self, master, appName, sparkHome, pyFiles, environment, batchSize, serializer, conf, gateway, jsc, profiler_cls)\u001b[0m\n\u001b[0;32m    110\u001b[0m         \"\"\"\n\u001b[0;32m    111\u001b[0m         \u001b[0mself\u001b[0m\u001b[1;33m.\u001b[0m\u001b[0m_callsite\u001b[0m \u001b[1;33m=\u001b[0m \u001b[0mfirst_spark_call\u001b[0m\u001b[1;33m(\u001b[0m\u001b[1;33m)\u001b[0m \u001b[1;32mor\u001b[0m \u001b[0mCallSite\u001b[0m\u001b[1;33m(\u001b[0m\u001b[0mNone\u001b[0m\u001b[1;33m,\u001b[0m \u001b[0mNone\u001b[0m\u001b[1;33m,\u001b[0m \u001b[0mNone\u001b[0m\u001b[1;33m)\u001b[0m\u001b[1;33m\u001b[0m\u001b[0m\n\u001b[1;32m--> 112\u001b[1;33m         \u001b[0mSparkContext\u001b[0m\u001b[1;33m.\u001b[0m\u001b[0m_ensure_initialized\u001b[0m\u001b[1;33m(\u001b[0m\u001b[0mself\u001b[0m\u001b[1;33m,\u001b[0m \u001b[0mgateway\u001b[0m\u001b[1;33m=\u001b[0m\u001b[0mgateway\u001b[0m\u001b[1;33m)\u001b[0m\u001b[1;33m\u001b[0m\u001b[0m\n\u001b[0m\u001b[0;32m    113\u001b[0m         \u001b[1;32mtry\u001b[0m\u001b[1;33m:\u001b[0m\u001b[1;33m\u001b[0m\u001b[0m\n\u001b[0;32m    114\u001b[0m             self._do_init(master, appName, sparkHome, pyFiles, environment, batchSize, serializer,\n",
      "\u001b[1;32mC:\\spark-1.6.0-bin-hadoop2.4\\python\\pyspark\\context.pyc\u001b[0m in \u001b[0;36m_ensure_initialized\u001b[1;34m(cls, instance, gateway)\u001b[0m\n\u001b[0;32m    259\u001b[0m                         \u001b[1;34m\" created by %s at %s:%s \"\u001b[0m\u001b[1;33m\u001b[0m\u001b[0m\n\u001b[0;32m    260\u001b[0m                         % (currentAppName, currentMaster,\n\u001b[1;32m--> 261\u001b[1;33m                             callsite.function, callsite.file, callsite.linenum))\n\u001b[0m\u001b[0;32m    262\u001b[0m                 \u001b[1;32melse\u001b[0m\u001b[1;33m:\u001b[0m\u001b[1;33m\u001b[0m\u001b[0m\n\u001b[0;32m    263\u001b[0m                     \u001b[0mSparkContext\u001b[0m\u001b[1;33m.\u001b[0m\u001b[0m_active_spark_context\u001b[0m \u001b[1;33m=\u001b[0m \u001b[0minstance\u001b[0m\u001b[1;33m\u001b[0m\u001b[0m\n",
      "\u001b[1;31mValueError\u001b[0m: Cannot run multiple SparkContexts at once; existing SparkContext(app=PySparkShell, master=local[*]) created by <module> at C:\\Users\\lata\\Anaconda2\\lib\\site-packages\\IPython\\utils\\py3compat.py:278 "
     ]
    }
   ],
   "source": [
    "# Multilayer perceptron classifier\n",
    "from pyspark.ml.classification import MultilayerPerceptronClassifier\n",
    "from pyspark.ml.evaluation import MulticlassClassificationEvaluator\n",
    "\n",
    "# Load training data\n",
    "data = sqlContext.read.format(\"libsvm\")\\\n",
    "    .load(\"data/mllib/sample_multiclass_classification_data.txt\")\n",
    "# Split the data into train and test\n",
    "splits = data.randomSplit([0.6, 0.4], 1234)\n",
    "train = splits[0]\n",
    "test = splits[1]\n",
    "# specify layers for the neural network:\n",
    "# input layer of size 4 (features), two intermediate of size 5 and 4\n",
    "# and output of size 3 (classes)\n",
    "layers = [4, 5, 4, 3]\n",
    "# create the trainer and set its parameters\n",
    "trainer = MultilayerPerceptronClassifier(maxIter=100, layers=layers, blockSize=128, seed=1234)\n",
    "# train the model\n",
    "model = trainer.fit(train)\n",
    "# compute precision on the test set\n",
    "result = model.transform(test)\n",
    "predictionAndLabels = result.select(\"prediction\", \"label\")\n",
    "evaluator = MulticlassClassificationEvaluator(metricName=\"precision\")\n",
    "print(\"Precision:\" + str(evaluator.evaluate(predictionAndLabels)))"
   ]
  },
  {
   "cell_type": "code",
   "execution_count": null,
   "metadata": {
    "collapsed": true
   },
   "outputs": [],
   "source": [
    "from pyspark.ml.classification import LogisticRegression\n",
    "\n",
    "# Load training data\n",
    "training = sqlContext.read.format(\"libsvm\").load(\"data/mllib/sample_libsvm_data.txt\")\n",
    "\n",
    "lr = LogisticRegression(maxIter=10, regParam=0.3, elasticNetParam=0.8)\n",
    "\n",
    "# Fit the model\n",
    "lrModel = lr.fit(training)\n",
    "\n",
    "# Print the coefficients and intercept for logistic regression\n",
    "print(\"Coefficients: \" + str(lrModel.coefficients))\n",
    "print(\"Intercept: \" + str(lrModel.intercept))"
   ]
  },
  {
   "cell_type": "code",
   "execution_count": null,
   "metadata": {
    "collapsed": true
   },
   "outputs": [],
   "source": [
    "from pyspark.ml import Pipeline\n",
    "from pyspark.ml.classification import GBTClassifier\n",
    "from pyspark.ml.feature import StringIndexer, VectorIndexer\n",
    "from pyspark.ml.evaluation import MulticlassClassificationEvaluator\n",
    "\n",
    "# Load and parse the data file, converting it to a DataFrame.\n",
    "data = sqlContext.read.format(\"libsvm\").load(\"data/mllib/sample_libsvm_data.txt\")\n",
    "\n",
    "# Index labels, adding metadata to the label column.\n",
    "# Fit on whole dataset to include all labels in index.\n",
    "labelIndexer = StringIndexer(inputCol=\"label\", outputCol=\"indexedLabel\").fit(data)\n",
    "# Automatically identify categorical features, and index them.\n",
    "# Set maxCategories so features with > 4 distinct values are treated as continuous.\n",
    "featureIndexer =\\\n",
    "    VectorIndexer(inputCol=\"features\", outputCol=\"indexedFeatures\", maxCategories=4).fit(data)\n",
    "\n",
    "# Split the data into training and test sets (30% held out for testing)\n",
    "(trainingData, testData) = data.randomSplit([0.7, 0.3])\n",
    "\n",
    "# Train a GBT model.\n",
    "gbt = GBTClassifier(labelCol=\"indexedLabel\", featuresCol=\"indexedFeatures\", maxIter=10)\n",
    "\n",
    "# Chain indexers and GBT in a Pipeline\n",
    "pipeline = Pipeline(stages=[labelIndexer, featureIndexer, gbt])\n",
    "\n",
    "# Train model.  This also runs the indexers.\n",
    "model = pipeline.fit(trainingData)\n",
    "\n",
    "# Make predictions.\n",
    "predictions = model.transform(testData)\n",
    "\n",
    "# Select example rows to display.\n",
    "predictions.select(\"prediction\", \"indexedLabel\", \"features\").show(5)\n",
    "\n",
    "# Select (prediction, true label) and compute test error\n",
    "evaluator = MulticlassClassificationEvaluator(\n",
    "    labelCol=\"indexedLabel\", predictionCol=\"prediction\", metricName=\"precision\")\n",
    "accuracy = evaluator.evaluate(predictions)\n",
    "print(\"Test Error = %g\" % (1.0 - accuracy))\n",
    "\n",
    "gbtModel = model.stages[2]\n",
    "print(gbtModel)  # summary only"
   ]
  },
  {
   "cell_type": "code",
   "execution_count": 13,
   "metadata": {
    "collapsed": true
   },
   "outputs": [
    {
     "ename": "Exception",
     "evalue": "(\"You must build Spark with Hive. Export 'SPARK_HIVE=true' and run build/sbt assembly\", Py4JJavaError(u'An error occurred while calling None.org.apache.spark.sql.hive.HiveContext.\\n', JavaObject id=o733))",
     "output_type": "error",
     "traceback": [
      "\u001b[1;31m---------------------------------------------------------------------------\u001b[0m",
      "\u001b[1;31mException\u001b[0m                                 Traceback (most recent call last)",
      "\u001b[1;32m<ipython-input-13-f8e71d60389e>\u001b[0m in \u001b[0;36m<module>\u001b[1;34m()\u001b[0m\n\u001b[0;32m      6\u001b[0m \u001b[1;33m\u001b[0m\u001b[0m\n\u001b[0;32m      7\u001b[0m \u001b[1;31m# Load and parse the data file, converting it to a DataFrame.\u001b[0m\u001b[1;33m\u001b[0m\u001b[1;33m\u001b[0m\u001b[0m\n\u001b[1;32m----> 8\u001b[1;33m \u001b[0mdata\u001b[0m \u001b[1;33m=\u001b[0m \u001b[0msqlContext\u001b[0m\u001b[1;33m.\u001b[0m\u001b[0mread\u001b[0m\u001b[1;33m.\u001b[0m\u001b[0mformat\u001b[0m\u001b[1;33m(\u001b[0m\u001b[1;34m\"libsvm\"\u001b[0m\u001b[1;33m)\u001b[0m\u001b[1;33m.\u001b[0m\u001b[0mload\u001b[0m\u001b[1;33m(\u001b[0m\u001b[1;34m\"data/mllib/sample_libsvm_data.txt\"\u001b[0m\u001b[1;33m)\u001b[0m\u001b[1;33m\u001b[0m\u001b[0m\n\u001b[0m\u001b[0;32m      9\u001b[0m \u001b[1;33m\u001b[0m\u001b[0m\n\u001b[0;32m     10\u001b[0m \u001b[1;31m# Index labels, adding metadata to the label column.\u001b[0m\u001b[1;33m\u001b[0m\u001b[1;33m\u001b[0m\u001b[0m\n",
      "\u001b[1;32mC:\\spark-1.6.0-bin-hadoop2.4\\python\\pyspark\\sql\\context.pyc\u001b[0m in \u001b[0;36mread\u001b[1;34m(self)\u001b[0m\n\u001b[0;32m    661\u001b[0m         \u001b[1;33m:\u001b[0m\u001b[1;32mreturn\u001b[0m\u001b[1;33m:\u001b[0m \u001b[1;33m:\u001b[0m\u001b[1;32mclass\u001b[0m\u001b[1;33m:\u001b[0m\u001b[1;33m`\u001b[0m\u001b[0mDataFrameReader\u001b[0m\u001b[1;33m`\u001b[0m\u001b[1;33m\u001b[0m\u001b[0m\n\u001b[0;32m    662\u001b[0m         \"\"\"\n\u001b[1;32m--> 663\u001b[1;33m         \u001b[1;32mreturn\u001b[0m \u001b[0mDataFrameReader\u001b[0m\u001b[1;33m(\u001b[0m\u001b[0mself\u001b[0m\u001b[1;33m)\u001b[0m\u001b[1;33m\u001b[0m\u001b[0m\n\u001b[0m\u001b[0;32m    664\u001b[0m \u001b[1;33m\u001b[0m\u001b[0m\n\u001b[0;32m    665\u001b[0m \u001b[1;33m\u001b[0m\u001b[0m\n",
      "\u001b[1;32mC:\\spark-1.6.0-bin-hadoop2.4\\python\\pyspark\\sql\\readwriter.pyc\u001b[0m in \u001b[0;36m__init__\u001b[1;34m(self, sqlContext)\u001b[0m\n\u001b[0;32m     54\u001b[0m \u001b[1;33m\u001b[0m\u001b[0m\n\u001b[0;32m     55\u001b[0m     \u001b[1;32mdef\u001b[0m \u001b[0m__init__\u001b[0m\u001b[1;33m(\u001b[0m\u001b[0mself\u001b[0m\u001b[1;33m,\u001b[0m \u001b[0msqlContext\u001b[0m\u001b[1;33m)\u001b[0m\u001b[1;33m:\u001b[0m\u001b[1;33m\u001b[0m\u001b[0m\n\u001b[1;32m---> 56\u001b[1;33m         \u001b[0mself\u001b[0m\u001b[1;33m.\u001b[0m\u001b[0m_jreader\u001b[0m \u001b[1;33m=\u001b[0m \u001b[0msqlContext\u001b[0m\u001b[1;33m.\u001b[0m\u001b[0m_ssql_ctx\u001b[0m\u001b[1;33m.\u001b[0m\u001b[0mread\u001b[0m\u001b[1;33m(\u001b[0m\u001b[1;33m)\u001b[0m\u001b[1;33m\u001b[0m\u001b[0m\n\u001b[0m\u001b[0;32m     57\u001b[0m         \u001b[0mself\u001b[0m\u001b[1;33m.\u001b[0m\u001b[0m_sqlContext\u001b[0m \u001b[1;33m=\u001b[0m \u001b[0msqlContext\u001b[0m\u001b[1;33m\u001b[0m\u001b[0m\n\u001b[0;32m     58\u001b[0m \u001b[1;33m\u001b[0m\u001b[0m\n",
      "\u001b[1;32mC:\\spark-1.6.0-bin-hadoop2.4\\python\\pyspark\\sql\\context.pyc\u001b[0m in \u001b[0;36m_ssql_ctx\u001b[1;34m(self)\u001b[0m\n\u001b[0;32m    689\u001b[0m             raise Exception(\"You must build Spark with Hive. \"\n\u001b[0;32m    690\u001b[0m                             \u001b[1;34m\"Export 'SPARK_HIVE=true' and run \"\u001b[0m\u001b[1;33m\u001b[0m\u001b[0m\n\u001b[1;32m--> 691\u001b[1;33m                             \"build/sbt assembly\", e)\n\u001b[0m\u001b[0;32m    692\u001b[0m \u001b[1;33m\u001b[0m\u001b[0m\n\u001b[0;32m    693\u001b[0m     \u001b[1;32mdef\u001b[0m \u001b[0m_get_hive_ctx\u001b[0m\u001b[1;33m(\u001b[0m\u001b[0mself\u001b[0m\u001b[1;33m)\u001b[0m\u001b[1;33m:\u001b[0m\u001b[1;33m\u001b[0m\u001b[0m\n",
      "\u001b[1;31mException\u001b[0m: (\"You must build Spark with Hive. Export 'SPARK_HIVE=true' and run build/sbt assembly\", Py4JJavaError(u'An error occurred while calling None.org.apache.spark.sql.hive.HiveContext.\\n', JavaObject id=o733))"
     ]
    }
   ],
   "source": [
    "# Random Forest\n",
    "from pyspark.ml import Pipeline\n",
    "from pyspark.ml.classification import RandomForestClassifier\n",
    "from pyspark.ml.feature import StringIndexer, VectorIndexer\n",
    "from pyspark.ml.evaluation import MulticlassClassificationEvaluator\n",
    "\n",
    "# Load and parse the data file, converting it to a DataFrame.\n",
    "data = sqlContext.read.format(\"libsvm\").load(\"data/mllib/sample_libsvm_data.txt\")\n",
    "\n",
    "# Index labels, adding metadata to the label column.\n",
    "# Fit on whole dataset to include all labels in index.\n",
    "labelIndexer = StringIndexer(inputCol=\"label\", outputCol=\"indexedLabel\").fit(data)\n",
    "# Automatically identify categorical features, and index them.\n",
    "# Set maxCategories so features with > 4 distinct values are treated as continuous.\n",
    "featureIndexer =\\\n",
    "    VectorIndexer(inputCol=\"features\", outputCol=\"indexedFeatures\", maxCategories=4).fit(data)\n",
    "\n",
    "# Split the data into training and test sets (30% held out for testing)\n",
    "(trainingData, testData) = data.randomSplit([0.7, 0.3])\n",
    "\n",
    "# Train a RandomForest model.\n",
    "rf = RandomForestClassifier(labelCol=\"indexedLabel\", featuresCol=\"indexedFeatures\")\n",
    "\n",
    "# Chain indexers and forest in a Pipeline\n",
    "pipeline = Pipeline(stages=[labelIndexer, featureIndexer, rf])\n",
    "\n",
    "# Train model.  This also runs the indexers.\n",
    "model = pipeline.fit(trainingData)\n",
    "\n",
    "# Make predictions.\n",
    "predictions = model.transform(testData)\n",
    "\n",
    "# Select example rows to display.\n",
    "predictions.select(\"prediction\", \"indexedLabel\", \"features\").show(5)\n",
    "\n",
    "# Select (prediction, true label) and compute test error\n",
    "evaluator = MulticlassClassificationEvaluator(\n",
    "    labelCol=\"indexedLabel\", predictionCol=\"prediction\", metricName=\"precision\")\n",
    "accuracy = evaluator.evaluate(predictions)\n",
    "print(\"Test Error = %g\" % (1.0 - accuracy))\n",
    "\n",
    "rfModel = model.stages[2]\n",
    "print(rfModel)  # summary only"
   ]
  },
  {
   "cell_type": "code",
   "execution_count": null,
   "metadata": {
    "collapsed": false
   },
   "outputs": [],
   "source": [
    "# Classification et regression \n",
    "# Méthodes linéaires\n",
    "from pyspark.mllib.classification import SVMWithSGD, SVMModel\n",
    "from pyspark.mllib.regression import LabeledPoint\n",
    "nomF = \"glass_svm\"\n",
    "# Load and parse the data\n",
    "def parsePoint(line):\n",
    "    values = [x for x in line.split(';')]\n",
    "    return LabeledPoint(values[8], values[0:7])\n",
    "\n",
    "data = sc.textFile(\"file:/C:/spark-1.6.0-bin-hadoop2.4/\"+nomF+\".csv\")\n",
    "data.first()\n",
    "nomColInit = data.first()\n",
    "#sruppression du header\n",
    "data2 = data.filter(lambda line: nomColInit != line) \n",
    "\n",
    "parsedData = data2.map(parsePoint)\n",
    "\n",
    "# Build the model\n",
    "#model = SVMWithSGD.train(parsedData, iterations=100)\n",
    "\n",
    "# Evaluating the model on training data\n",
    "#labelsAndPreds = parsedData.map(lambda p: (p.label, model.predict(p.features)))\n",
    "#trainErr = labelsAndPreds.filter(lambda (v, p): v != p).count() / float(parsedData.count())\n",
    "#print(\"Training Error = \" + str(trainErr))\n",
    "\n",
    "# Save and load model\n",
    "#model.save(sc, \"myModelPath\")\n",
    "#sameModel = SVMModel.load(sc, \"myModelPath\")"
   ]
  },
  {
   "cell_type": "code",
   "execution_count": null,
   "metadata": {
    "collapsed": true
   },
   "outputs": [],
   "source": [
    "from pyspark.mllib.classification import LogisticRegressionWithLBFGS, LogisticRegressionModel\n",
    "from pyspark.mllib.regression import LabeledPoint\n",
    "\n",
    "# Load and parse the data\n",
    "def parsePoint(line):\n",
    "    values = [float(x) for x in line.split(' ')]\n",
    "    return LabeledPoint(values[0], values[1:])\n",
    "\n",
    "data = sc.textFile(\"data/mllib/sample_svm_data.txt\")\n",
    "parsedData = data.map(parsePoint)\n",
    "\n",
    "# Build the model\n",
    "model = LogisticRegressionWithLBFGS.train(parsedData)\n",
    "\n",
    "# Evaluating the model on training data\n",
    "labelsAndPreds = parsedData.map(lambda p: (p.label, model.predict(p.features)))\n",
    "trainErr = labelsAndPreds.filter(lambda (v, p): v != p).count() / float(parsedData.count())\n",
    "print(\"Training Error = \" + str(trainErr))\n",
    "\n",
    "# Save and load model\n",
    "model.save(sc, \"myModelPath2\")\n",
    "sameModel = LogisticRegressionModel.load(sc, \"myModelPath2\")"
   ]
  }
 ],
 "metadata": {
  "kernelspec": {
   "display_name": "Python 2",
   "language": "python",
   "name": "python2"
  },
  "language_info": {
   "codemirror_mode": {
    "name": "ipython",
    "version": 2
   },
   "file_extension": ".py",
   "mimetype": "text/x-python",
   "name": "python",
   "nbconvert_exporter": "python",
   "pygments_lexer": "ipython2",
   "version": "2.7.11"
  }
 },
 "nbformat": 4,
 "nbformat_minor": 0
}
